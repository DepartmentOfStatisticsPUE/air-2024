{
  "nbformat": 4,
  "nbformat_minor": 0,
  "metadata": {
    "colab": {
      "provenance": [],
      "authorship_tag": "ABX9TyOXLgKS5uH2UVxfDBPMDR9y",
      "include_colab_link": true
    },
    "kernelspec": {
      "name": "python3",
      "display_name": "Python 3"
    },
    "language_info": {
      "name": "python"
    }
  },
  "cells": [
    {
      "cell_type": "markdown",
      "metadata": {
        "id": "view-in-github",
        "colab_type": "text"
      },
      "source": [
        "<a href=\"https://colab.research.google.com/github/DepartmentOfStatisticsPUE/air-2024/blob/main/notebooks/1_processing.ipynb\" target=\"_parent\"><img src=\"https://colab.research.google.com/assets/colab-badge.svg\" alt=\"Open In Colab\"/></a>"
      ]
    },
    {
      "cell_type": "code",
      "execution_count": null,
      "metadata": {
        "id": "bXJSxsaDQAGa"
      },
      "outputs": [],
      "source": [
        "import pandas as pd"
      ]
    },
    {
      "cell_type": "code",
      "source": [
        "pzn=pd.read_excel(\"rent-poznan.xlsx\")\n",
        "pzn.head()"
      ],
      "metadata": {
        "id": "PMOHQI8LR78B"
      },
      "execution_count": null,
      "outputs": []
    },
    {
      "cell_type": "markdown",
      "source": [
        "# Zajęcia 2023.10.20"
      ],
      "metadata": {
        "id": "0spTnCU8QQT-"
      }
    },
    {
      "cell_type": "markdown",
      "source": [
        "Plan na dzisiaj:\n",
        "\n",
        "- poznać sposób wyboru wierszy\n",
        "- agregacja danych\n",
        "- potokowe przetwarzanie ramek danych"
      ],
      "metadata": {
        "id": "-LkGhPL4QDzs"
      }
    },
    {
      "cell_type": "markdown",
      "source": [
        "Zadania 1\n",
        "\n",
        "+ ile rekordów dotyczyło nieruchomości o jednym pokoju i cenie ponad 5 tys. zł?\n",
        "+ ile rekordów miało cenę mniejszą od 350 zł? Czy były to mieszkania na wynajem?\n",
        "+ ile rekordów miało podaną cenę 1500 i było z Centrum oraz Rataj?"
      ],
      "metadata": {
        "id": "iEE6weAJQLnw"
      }
    },
    {
      "cell_type": "markdown",
      "source": [
        "Zadania 2\n",
        "\n",
        "+ ile wynosi średnia cena mieszkań 2 pokojowych na Ratajach?\n",
        "+ ile wynosi mediana ceny i powierzchni nieruchomości na Naramowicach?\n",
        "+ gdzie było najmniej, a gdzie najwięcej ogłoszeń dot. kawalerek (1 pokój)?"
      ],
      "metadata": {
        "id": "MgAyKtUZQMo3"
      }
    },
    {
      "cell_type": "code",
      "source": [],
      "metadata": {
        "id": "CTkI6jD5ReGs"
      },
      "execution_count": null,
      "outputs": []
    }
  ]
}