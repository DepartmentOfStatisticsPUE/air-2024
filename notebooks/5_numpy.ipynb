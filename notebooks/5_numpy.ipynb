{
  "nbformat": 4,
  "nbformat_minor": 0,
  "metadata": {
    "colab": {
      "provenance": [],
      "authorship_tag": "ABX9TyPczbpsxAztkqsAHOeN6nao",
      "include_colab_link": true
    },
    "kernelspec": {
      "name": "python3",
      "display_name": "Python 3"
    },
    "language_info": {
      "name": "python"
    }
  },
  "cells": [
    {
      "cell_type": "markdown",
      "metadata": {
        "id": "view-in-github",
        "colab_type": "text"
      },
      "source": [
        "<a href=\"https://colab.research.google.com/github/DepartmentOfStatisticsPUE/air-2024/blob/main/notebooks/5_numpy.ipynb\" target=\"_parent\"><img src=\"https://colab.research.google.com/assets/colab-badge.svg\" alt=\"Open In Colab\"/></a>"
      ]
    },
    {
      "cell_type": "code",
      "execution_count": 1,
      "metadata": {
        "id": "vm5Rxh5YB2EW"
      },
      "outputs": [],
      "source": [
        "import numpy as np"
      ]
    },
    {
      "cell_type": "markdown",
      "source": [
        "Zadanie 1\n"
      ],
      "metadata": {
        "id": "DrWv_L75CWet"
      }
    },
    {
      "cell_type": "code",
      "source": [
        "np.array( [[1, 2],\n",
        "           [3, 4]])\n",
        "\n",
        "np.array( [(1, 2),\n",
        "           (3, 4)])"
      ],
      "metadata": {
        "colab": {
          "base_uri": "https://localhost:8080/"
        },
        "id": "xj_kfvWcCYEl",
        "outputId": "36ac99cd-ff9a-46cd-ae39-85c792663957"
      },
      "execution_count": 3,
      "outputs": [
        {
          "output_type": "execute_result",
          "data": {
            "text/plain": [
              "array([[1, 2],\n",
              "       [3, 4]])"
            ]
          },
          "metadata": {},
          "execution_count": 3
        }
      ]
    },
    {
      "cell_type": "code",
      "source": [
        "A = np.array([[1, 2, -1, 0], [3, -2, 4, 5], [2, 6, 5, -3], [0, 1, 5, -4]])\n",
        "B = np.array([[3, 6], [4, 0], [2, -1], [1, 1]])\n",
        "A"
      ],
      "metadata": {
        "colab": {
          "base_uri": "https://localhost:8080/"
        },
        "id": "xqmkLbBuDq5Z",
        "outputId": "adae8f3b-fda4-4fcd-85b8-a99d5474e4f2"
      },
      "execution_count": 9,
      "outputs": [
        {
          "output_type": "execute_result",
          "data": {
            "text/plain": [
              "array([[ 1,  2, -1,  0],\n",
              "       [ 3, -2,  4,  5],\n",
              "       [ 2,  6,  5, -3],\n",
              "       [ 0,  1,  5, -4]])"
            ]
          },
          "metadata": {},
          "execution_count": 9
        }
      ]
    },
    {
      "cell_type": "code",
      "source": [
        "np.linalg.det(A)"
      ],
      "metadata": {
        "colab": {
          "base_uri": "https://localhost:8080/"
        },
        "id": "PzU0rzIWFgCe",
        "outputId": "25ecc8d0-5246-4d77-a24e-290782082181"
      },
      "execution_count": 10,
      "outputs": [
        {
          "output_type": "execute_result",
          "data": {
            "text/plain": [
              "154.00000000000006"
            ]
          },
          "metadata": {},
          "execution_count": 10
        }
      ]
    },
    {
      "cell_type": "code",
      "source": [
        "A @ B"
      ],
      "metadata": {
        "colab": {
          "base_uri": "https://localhost:8080/"
        },
        "id": "wsCCEv1RGfLQ",
        "outputId": "2b8da0cf-9cb3-42e3-9862-5b35850ccf3e"
      },
      "execution_count": 11,
      "outputs": [
        {
          "output_type": "execute_result",
          "data": {
            "text/plain": [
              "array([[ 9,  7],\n",
              "       [14, 19],\n",
              "       [37,  4],\n",
              "       [10, -9]])"
            ]
          },
          "metadata": {},
          "execution_count": 11
        }
      ]
    },
    {
      "cell_type": "code",
      "source": [
        "np.matmul(A, B)"
      ],
      "metadata": {
        "colab": {
          "base_uri": "https://localhost:8080/"
        },
        "id": "OawKJhe-HK6q",
        "outputId": "d71cd2c1-d647-42c4-9cea-96b1e5305e8d"
      },
      "execution_count": 13,
      "outputs": [
        {
          "output_type": "execute_result",
          "data": {
            "text/plain": [
              "array([[ 9,  7],\n",
              "       [14, 19],\n",
              "       [37,  4],\n",
              "       [10, -9]])"
            ]
          },
          "metadata": {},
          "execution_count": 13
        }
      ]
    },
    {
      "cell_type": "code",
      "source": [
        "A.dot(B)"
      ],
      "metadata": {
        "colab": {
          "base_uri": "https://localhost:8080/"
        },
        "id": "z8tQON-qHWxr",
        "outputId": "c9347ded-9255-455a-bdfd-feb19ab497d0"
      },
      "execution_count": 14,
      "outputs": [
        {
          "output_type": "execute_result",
          "data": {
            "text/plain": [
              "array([[ 9,  7],\n",
              "       [14, 19],\n",
              "       [37,  4],\n",
              "       [10, -9]])"
            ]
          },
          "metadata": {},
          "execution_count": 14
        }
      ]
    },
    {
      "cell_type": "code",
      "source": [
        "B @ A"
      ],
      "metadata": {
        "colab": {
          "base_uri": "https://localhost:8080/",
          "height": 193
        },
        "id": "MhFxsDU6HfrF",
        "outputId": "4cad80ac-4d7f-4fc8-cb4e-947e71c022eb"
      },
      "execution_count": 15,
      "outputs": [
        {
          "output_type": "error",
          "ename": "ValueError",
          "evalue": "matmul: Input operand 1 has a mismatch in its core dimension 0, with gufunc signature (n?,k),(k,m?)->(n?,m?) (size 4 is different from 2)",
          "traceback": [
            "\u001b[0;31m---------------------------------------------------------------------------\u001b[0m",
            "\u001b[0;31mValueError\u001b[0m                                Traceback (most recent call last)",
            "\u001b[0;32m<ipython-input-15-c9046335e71f>\u001b[0m in \u001b[0;36m<cell line: 1>\u001b[0;34m()\u001b[0m\n\u001b[0;32m----> 1\u001b[0;31m \u001b[0mB\u001b[0m \u001b[0;34m@\u001b[0m \u001b[0mA\u001b[0m\u001b[0;34m\u001b[0m\u001b[0;34m\u001b[0m\u001b[0m\n\u001b[0m",
            "\u001b[0;31mValueError\u001b[0m: matmul: Input operand 1 has a mismatch in its core dimension 0, with gufunc signature (n?,k),(k,m?)->(n?,m?) (size 4 is different from 2)"
          ]
        }
      ]
    },
    {
      "cell_type": "code",
      "source": [
        "A * A"
      ],
      "metadata": {
        "colab": {
          "base_uri": "https://localhost:8080/"
        },
        "id": "pSRjYxldGnso",
        "outputId": "e901b431-a940-4c34-fd50-62573592add9"
      },
      "execution_count": 12,
      "outputs": [
        {
          "output_type": "execute_result",
          "data": {
            "text/plain": [
              "array([[ 1,  4,  1,  0],\n",
              "       [ 9,  4, 16, 25],\n",
              "       [ 4, 36, 25,  9],\n",
              "       [ 0,  1, 25, 16]])"
            ]
          },
          "metadata": {},
          "execution_count": 12
        }
      ]
    },
    {
      "cell_type": "code",
      "source": [
        "B.T"
      ],
      "metadata": {
        "colab": {
          "base_uri": "https://localhost:8080/"
        },
        "id": "Havp2xPUH-Hb",
        "outputId": "50d794b6-578e-47e4-c97a-63403262a41b"
      },
      "execution_count": 16,
      "outputs": [
        {
          "output_type": "execute_result",
          "data": {
            "text/plain": [
              "array([[ 3,  4,  2,  1],\n",
              "       [ 6,  0, -1,  1]])"
            ]
          },
          "metadata": {},
          "execution_count": 16
        }
      ]
    },
    {
      "cell_type": "code",
      "source": [
        "B.transpose()"
      ],
      "metadata": {
        "colab": {
          "base_uri": "https://localhost:8080/"
        },
        "id": "k3jE2r12IHm-",
        "outputId": "e37b4fe4-490f-4c78-bf68-e392a591aa32"
      },
      "execution_count": 17,
      "outputs": [
        {
          "output_type": "execute_result",
          "data": {
            "text/plain": [
              "array([[ 3,  4,  2,  1],\n",
              "       [ 6,  0, -1,  1]])"
            ]
          },
          "metadata": {},
          "execution_count": 17
        }
      ]
    },
    {
      "cell_type": "code",
      "source": [
        "np.transpose(B) @ A ## B^T A"
      ],
      "metadata": {
        "colab": {
          "base_uri": "https://localhost:8080/"
        },
        "id": "zmydrYy3IJY0",
        "outputId": "c2d2763e-fc72-4787-fb61-89615c2e832a"
      },
      "execution_count": 19,
      "outputs": [
        {
          "output_type": "execute_result",
          "data": {
            "text/plain": [
              "array([[19, 11, 28, 10],\n",
              "       [ 4,  7, -6, -1]])"
            ]
          },
          "metadata": {},
          "execution_count": 19
        }
      ]
    },
    {
      "cell_type": "code",
      "source": [
        "np.linalg.inv(A)\n",
        "np.linalg.pinv(A)"
      ],
      "metadata": {
        "colab": {
          "base_uri": "https://localhost:8080/"
        },
        "id": "1xqusX1GImom",
        "outputId": "15206aa9-5af8-45be-8c6f-31590ca19386"
      },
      "execution_count": 21,
      "outputs": [
        {
          "output_type": "execute_result",
          "data": {
            "text/plain": [
              "array([[ 1.42207792,  0.2012987 , -0.51298701,  0.63636364],\n",
              "       [-0.43506494, -0.08441558,  0.34415584, -0.36363636],\n",
              "       [-0.44805195,  0.03246753,  0.17532468, -0.09090909],\n",
              "       [-0.66883117,  0.01948052,  0.30519481, -0.45454545]])"
            ]
          },
          "metadata": {},
          "execution_count": 21
        }
      ]
    },
    {
      "cell_type": "code",
      "source": [
        "np.round(np.linalg.inv(A) @ A)"
      ],
      "metadata": {
        "colab": {
          "base_uri": "https://localhost:8080/"
        },
        "id": "lPS1ZndZJVrQ",
        "outputId": "96f7a0ac-e168-4793-d1d0-b1e5e78106c3"
      },
      "execution_count": 23,
      "outputs": [
        {
          "output_type": "execute_result",
          "data": {
            "text/plain": [
              "array([[ 1.,  0.,  0.,  0.],\n",
              "       [ 0.,  1.,  0., -0.],\n",
              "       [-0., -0.,  1., -0.],\n",
              "       [ 0.,  0.,  0.,  1.]])"
            ]
          },
          "metadata": {},
          "execution_count": 23
        }
      ]
    },
    {
      "cell_type": "code",
      "source": [
        "A @ A @ A"
      ],
      "metadata": {
        "colab": {
          "base_uri": "https://localhost:8080/"
        },
        "id": "vYcMZTVBJ40K",
        "outputId": "dd075bc2-0a23-471f-af92-d543bb9aade5"
      },
      "execution_count": 24,
      "outputs": [
        {
          "output_type": "execute_result",
          "data": {
            "text/plain": [
              "array([[ -15,   51,   38,  -98],\n",
              "       [ 190,   94,  111,  261],\n",
              "       [ 151,  241,  341, -109],\n",
              "       [ 103,   38,  158,   69]])"
            ]
          },
          "metadata": {},
          "execution_count": 24
        }
      ]
    },
    {
      "cell_type": "code",
      "source": [
        "np.linalg.matrix_power(A, 3)"
      ],
      "metadata": {
        "colab": {
          "base_uri": "https://localhost:8080/"
        },
        "id": "fV9r-wrNKIwB",
        "outputId": "0d38fc85-36ef-44a6-fb0c-30fa86e6f878"
      },
      "execution_count": 26,
      "outputs": [
        {
          "output_type": "execute_result",
          "data": {
            "text/plain": [
              "array([[ -15,   51,   38,  -98],\n",
              "       [ 190,   94,  111,  261],\n",
              "       [ 151,  241,  341, -109],\n",
              "       [ 103,   38,  158,   69]])"
            ]
          },
          "metadata": {},
          "execution_count": 26
        }
      ]
    },
    {
      "cell_type": "code",
      "source": [
        "A**3\n",
        "np.power(A, 3)"
      ],
      "metadata": {
        "colab": {
          "base_uri": "https://localhost:8080/"
        },
        "id": "g5eBR3V4J7tj",
        "outputId": "dbcffa75-e4d4-45c2-f9e8-d82f876d2349"
      },
      "execution_count": 27,
      "outputs": [
        {
          "output_type": "execute_result",
          "data": {
            "text/plain": [
              "array([[  1,   8,  -1,   0],\n",
              "       [ 27,  -8,  64, 125],\n",
              "       [  8, 216, 125, -27],\n",
              "       [  0,   1, 125, -64]])"
            ]
          },
          "metadata": {},
          "execution_count": 27
        }
      ]
    },
    {
      "cell_type": "markdown",
      "source": [
        "Zadanie 2\n"
      ],
      "metadata": {
        "id": "dNh4Ep-YLz0u"
      }
    },
    {
      "cell_type": "code",
      "source": [
        "A = np.array([[3, 1, -2], [-3,2,1], [-2,6,3]])\n",
        "B = np.array([[1,2,-2], [0,2,-1]])\n",
        "C = np.array([[1,2],[3,4]])"
      ],
      "metadata": {
        "id": "TrlvAoaFL0l1"
      },
      "execution_count": 35,
      "outputs": []
    },
    {
      "cell_type": "code",
      "source": [
        "[np.linalg.det(A), np.linalg.det(C)]"
      ],
      "metadata": {
        "colab": {
          "base_uri": "https://localhost:8080/"
        },
        "id": "eUid0nPGMK1_",
        "outputId": "048d6bae-4307-4805-de48-c2db33ab6380"
      },
      "execution_count": 36,
      "outputs": [
        {
          "output_type": "execute_result",
          "data": {
            "text/plain": [
              "[35.00000000000001, -2.0000000000000004]"
            ]
          },
          "metadata": {},
          "execution_count": 36
        }
      ]
    },
    {
      "cell_type": "code",
      "source": [
        "A @ B.T"
      ],
      "metadata": {
        "colab": {
          "base_uri": "https://localhost:8080/"
        },
        "id": "foANqJnoMRUf",
        "outputId": "8728b9f7-8999-443e-fcbc-654518a02c68"
      },
      "execution_count": 37,
      "outputs": [
        {
          "output_type": "execute_result",
          "data": {
            "text/plain": [
              "array([[ 9,  4],\n",
              "       [-1,  3],\n",
              "       [ 4,  9]])"
            ]
          },
          "metadata": {},
          "execution_count": 37
        }
      ]
    },
    {
      "cell_type": "code",
      "source": [
        "C.T"
      ],
      "metadata": {
        "colab": {
          "base_uri": "https://localhost:8080/"
        },
        "id": "mZ1zF8HZMToA",
        "outputId": "1ec1dd17-b25c-4a19-c190-8666f2b25eeb"
      },
      "execution_count": 38,
      "outputs": [
        {
          "output_type": "execute_result",
          "data": {
            "text/plain": [
              "array([[1, 3],\n",
              "       [2, 4]])"
            ]
          },
          "metadata": {},
          "execution_count": 38
        }
      ]
    },
    {
      "cell_type": "code",
      "source": [
        "np.linalg.inv(C)"
      ],
      "metadata": {
        "colab": {
          "base_uri": "https://localhost:8080/"
        },
        "id": "hNb2EV8NM0-1",
        "outputId": "94074211-196e-48f3-95d7-5e67bdf15174"
      },
      "execution_count": 40,
      "outputs": [
        {
          "output_type": "execute_result",
          "data": {
            "text/plain": [
              "array([[-2. ,  1. ],\n",
              "       [ 1.5, -0.5]])"
            ]
          },
          "metadata": {},
          "execution_count": 40
        }
      ]
    },
    {
      "cell_type": "code",
      "source": [
        "np.linalg.inv(A) @ B.T @ np.linalg.matrix_power(C,2)"
      ],
      "metadata": {
        "colab": {
          "base_uri": "https://localhost:8080/"
        },
        "id": "2BkQFKYcMVC3",
        "outputId": "b29f7dd0-4aa7-4e6c-e04a-f2adda58dfa9"
      },
      "execution_count": 39,
      "outputs": [
        {
          "output_type": "execute_result",
          "data": {
            "text/plain": [
              "array([[-23.        , -33.42857143],\n",
              "       [  5.2       ,   7.54285714],\n",
              "       [-35.4       , -51.37142857]])"
            ]
          },
          "metadata": {},
          "execution_count": 39
        }
      ]
    },
    {
      "cell_type": "code",
      "source": [
        "dane = np.arange(1,10)\n",
        "dane.reshape(3,3)"
      ],
      "metadata": {
        "colab": {
          "base_uri": "https://localhost:8080/"
        },
        "id": "63RBjl9CM_C5",
        "outputId": "83318299-bcc6-4969-8a58-4ce30984b902"
      },
      "execution_count": 47,
      "outputs": [
        {
          "output_type": "execute_result",
          "data": {
            "text/plain": [
              "array([[1, 2, 3],\n",
              "       [4, 5, 6],\n",
              "       [7, 8, 9]])"
            ]
          },
          "metadata": {},
          "execution_count": 47
        }
      ]
    },
    {
      "cell_type": "code",
      "source": [
        "A"
      ],
      "metadata": {
        "colab": {
          "base_uri": "https://localhost:8080/"
        },
        "id": "loc_eClLODKv",
        "outputId": "a433ff1e-ef52-4cce-9fe9-a594aee5ae1a"
      },
      "execution_count": 49,
      "outputs": [
        {
          "output_type": "execute_result",
          "data": {
            "text/plain": [
              "array([[ 3,  1, -2],\n",
              "       [-3,  2,  1],\n",
              "       [-2,  6,  3]])"
            ]
          },
          "metadata": {},
          "execution_count": 49
        }
      ]
    },
    {
      "cell_type": "code",
      "source": [
        "A[:, 0]\n",
        "A[0, :]\n",
        "A[[0,2], :]"
      ],
      "metadata": {
        "colab": {
          "base_uri": "https://localhost:8080/"
        },
        "id": "hkptDJYJN6aN",
        "outputId": "bfdc1dc9-a3b3-459e-bce8-bda79d999428"
      },
      "execution_count": 51,
      "outputs": [
        {
          "output_type": "execute_result",
          "data": {
            "text/plain": [
              "array([[ 3,  1, -2],\n",
              "       [-2,  6,  3]])"
            ]
          },
          "metadata": {},
          "execution_count": 51
        }
      ]
    },
    {
      "cell_type": "code",
      "source": [
        "np.sum(A)\n",
        "A.sum()"
      ],
      "metadata": {
        "colab": {
          "base_uri": "https://localhost:8080/"
        },
        "id": "jd0XneJ0OnB9",
        "outputId": "f7d18503-1562-474c-b178-1d2cea1e6060"
      },
      "execution_count": 53,
      "outputs": [
        {
          "output_type": "execute_result",
          "data": {
            "text/plain": [
              "9"
            ]
          },
          "metadata": {},
          "execution_count": 53
        }
      ]
    },
    {
      "cell_type": "code",
      "source": [
        "np.sum(A, axis=0) ## sumy w poszczególnych kolumnach"
      ],
      "metadata": {
        "colab": {
          "base_uri": "https://localhost:8080/"
        },
        "id": "-2PvFqRoOx83",
        "outputId": "1bb87e1d-be67-45b8-8c6d-e3d7f79ca5b2"
      },
      "execution_count": 60,
      "outputs": [
        {
          "output_type": "execute_result",
          "data": {
            "text/plain": [
              "array([-2,  9,  2])"
            ]
          },
          "metadata": {},
          "execution_count": 60
        }
      ]
    },
    {
      "cell_type": "code",
      "source": [
        "np.sum(A, axis=1) ## sumy w poszczególnych wierszach"
      ],
      "metadata": {
        "colab": {
          "base_uri": "https://localhost:8080/"
        },
        "id": "wqTklO1HPOp3",
        "outputId": "f36dab79-44fa-4afe-b1e5-d1604d06d9d0"
      },
      "execution_count": 59,
      "outputs": [
        {
          "output_type": "execute_result",
          "data": {
            "text/plain": [
              "array([2, 0, 7])"
            ]
          },
          "metadata": {},
          "execution_count": 59
        }
      ]
    },
    {
      "cell_type": "code",
      "source": [
        "A[1,1] = -99\n",
        "A"
      ],
      "metadata": {
        "colab": {
          "base_uri": "https://localhost:8080/"
        },
        "id": "Yue9GsXcPX6I",
        "outputId": "c1f4a398-c9f1-4795-de17-45972bcba3f6"
      },
      "execution_count": 62,
      "outputs": [
        {
          "output_type": "execute_result",
          "data": {
            "text/plain": [
              "array([[  3,   1,  -2],\n",
              "       [ -3, -99,   1],\n",
              "       [ -2,   6,   3]])"
            ]
          },
          "metadata": {},
          "execution_count": 62
        }
      ]
    },
    {
      "cell_type": "code",
      "source": [
        "np.zeros([5,5])\n",
        "np.zeros([5,5], dtype=int)"
      ],
      "metadata": {
        "colab": {
          "base_uri": "https://localhost:8080/"
        },
        "id": "3fLrTSEXQhvr",
        "outputId": "c9829430-fb51-4126-fd02-704eda16b831"
      },
      "execution_count": 66,
      "outputs": [
        {
          "output_type": "execute_result",
          "data": {
            "text/plain": [
              "array([[0, 0, 0, 0, 0],\n",
              "       [0, 0, 0, 0, 0],\n",
              "       [0, 0, 0, 0, 0],\n",
              "       [0, 0, 0, 0, 0],\n",
              "       [0, 0, 0, 0, 0]])"
            ]
          },
          "metadata": {},
          "execution_count": 66
        }
      ]
    },
    {
      "cell_type": "code",
      "source": [
        "np.ones([5,5])"
      ],
      "metadata": {
        "colab": {
          "base_uri": "https://localhost:8080/"
        },
        "id": "8RkiNNwNQ_AM",
        "outputId": "10d61ae8-ec2f-4acf-bd88-ba1819e7d5f3"
      },
      "execution_count": 67,
      "outputs": [
        {
          "output_type": "execute_result",
          "data": {
            "text/plain": [
              "array([[1., 1., 1., 1., 1.],\n",
              "       [1., 1., 1., 1., 1.],\n",
              "       [1., 1., 1., 1., 1.],\n",
              "       [1., 1., 1., 1., 1.],\n",
              "       [1., 1., 1., 1., 1.]])"
            ]
          },
          "metadata": {},
          "execution_count": 67
        }
      ]
    },
    {
      "cell_type": "code",
      "source": [
        "np.eye(3)"
      ],
      "metadata": {
        "colab": {
          "base_uri": "https://localhost:8080/"
        },
        "id": "nqJlQ626RSn3",
        "outputId": "ff79baa8-1a66-4254-8721-975e8738785d"
      },
      "execution_count": 68,
      "outputs": [
        {
          "output_type": "execute_result",
          "data": {
            "text/plain": [
              "array([[1., 0., 0.],\n",
              "       [0., 1., 0.],\n",
              "       [0., 0., 1.]])"
            ]
          },
          "metadata": {},
          "execution_count": 68
        }
      ]
    },
    {
      "cell_type": "markdown",
      "source": [
        "Zadanie 8"
      ],
      "metadata": {
        "id": "zixt8wocSR_O"
      }
    },
    {
      "cell_type": "code",
      "source": [
        "x = np.arange(1,11)\n",
        "y = np.array([[10,15,13,22,23,20,18,25,27,22]])\n",
        "x"
      ],
      "metadata": {
        "colab": {
          "base_uri": "https://localhost:8080/"
        },
        "id": "asfJzVzwST6e",
        "outputId": "97e6c2e3-0314-43e4-ac85-5cdd3990afac"
      },
      "execution_count": 72,
      "outputs": [
        {
          "output_type": "execute_result",
          "data": {
            "text/plain": [
              "array([[10, 15, 13, 22, 23, 20, 18, 25, 27, 22]])"
            ]
          },
          "metadata": {},
          "execution_count": 72
        }
      ]
    },
    {
      "cell_type": "code",
      "source": [
        "np.shape(x) ## wymiar macierzy (wiersze, kolumny)\n",
        "jedynki = np.ones(np.shape(x)[0]) ## może być też len(x)\n",
        "jedynki"
      ],
      "metadata": {
        "colab": {
          "base_uri": "https://localhost:8080/"
        },
        "id": "XnYYgjg8Szjs",
        "outputId": "0e2e3999-112d-48c8-c448-bfe3e0e91c6e"
      },
      "execution_count": 79,
      "outputs": [
        {
          "output_type": "execute_result",
          "data": {
            "text/plain": [
              "array([1., 1., 1., 1., 1., 1., 1., 1., 1., 1.])"
            ]
          },
          "metadata": {},
          "execution_count": 79
        }
      ]
    },
    {
      "cell_type": "markdown",
      "source": [],
      "metadata": {
        "id": "gnSfBJT5T08t"
      }
    },
    {
      "cell_type": "code",
      "source": [
        "X = np.transpose( np.vstack((jedynki, x)) )\n",
        "X"
      ],
      "metadata": {
        "colab": {
          "base_uri": "https://localhost:8080/"
        },
        "id": "OUTYEWQaT1eu",
        "outputId": "c8ec4ceb-2bcd-410d-c5c3-aac2d751d48f"
      },
      "execution_count": 91,
      "outputs": [
        {
          "output_type": "execute_result",
          "data": {
            "text/plain": [
              "array([[ 1.,  1.],\n",
              "       [ 1.,  2.],\n",
              "       [ 1.,  3.],\n",
              "       [ 1.,  4.],\n",
              "       [ 1.,  5.],\n",
              "       [ 1.,  6.],\n",
              "       [ 1.,  7.],\n",
              "       [ 1.,  8.],\n",
              "       [ 1.,  9.],\n",
              "       [ 1., 10.]])"
            ]
          },
          "metadata": {},
          "execution_count": 91
        }
      ]
    },
    {
      "cell_type": "markdown",
      "source": [
        "$$\n",
        "\\beta = (X^TX)^{-1}X^TY\n",
        "$$"
      ],
      "metadata": {
        "id": "_V7gXKCjUsvI"
      }
    }
  ]
}