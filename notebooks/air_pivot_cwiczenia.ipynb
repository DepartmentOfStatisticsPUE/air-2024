{
  "nbformat": 4,
  "nbformat_minor": 0,
  "metadata": {
    "colab": {
      "provenance": [],
      "authorship_tag": "ABX9TyN4xo13GTUXrYV8F/WqFmT/",
      "include_colab_link": true
    },
    "kernelspec": {
      "name": "python3",
      "display_name": "Python 3"
    },
    "language_info": {
      "name": "python"
    }
  },
  "cells": [
    {
      "cell_type": "markdown",
      "metadata": {
        "id": "view-in-github",
        "colab_type": "text"
      },
      "source": [
        "<a href=\"https://colab.research.google.com/github/DepartmentOfStatisticsPUE/air-2024/blob/main/notebooks/air_pivot_cwiczenia.ipynb\" target=\"_parent\"><img src=\"https://colab.research.google.com/assets/colab-badge.svg\" alt=\"Open In Colab\"/></a>"
      ]
    },
    {
      "cell_type": "code",
      "source": [
        "import pandas as pd"
      ],
      "metadata": {
        "id": "OiPXLwqVqzRX"
      },
      "execution_count": 1,
      "outputs": []
    },
    {
      "cell_type": "markdown",
      "source": [
        "**Zadanie 1**\n",
        "\n",
        "Zadeklaruj poniższą ramkę danych\n",
        "\n",
        "|country     | year|  cases| population|\n",
        "|:-----------|----:|------:|----------:|\n",
        "|Afghanistan | 1999|    745|   19987071|\n",
        "|Afghanistan | 2000|   2666|   20595360|\n",
        "|Brazil      | 1999|  37737|  172006362|\n",
        "|Brazil      | 2000|  80488|  174504898|\n",
        "|China       | 1999| 212258| 1272915272|\n",
        "|China       | 2000| 213766| 1280428583|\n",
        "\n",
        "a następnie utwórz następującą ramkę danych\n",
        "\n",
        "|country     | year|variables  |     values|\n",
        "|:-----------|----:|:----------|----------:|\n",
        "|Afghanistan | 1999|cases      |        745|\n",
        "|Afghanistan | 1999|population |   19987071|\n",
        "|Afghanistan | 2000|cases      |       2666|\n",
        "|Afghanistan | 2000|population |   20595360|\n",
        "|Brazil      | 1999|cases      |      37737|\n",
        "|Brazil      | 1999|population |  172006362|\n",
        "|Brazil      | 2000|cases      |      80488|\n",
        "|Brazil      | 2000|population |  174504898|\n",
        "|China       | 1999|cases      |     212258|\n",
        "|China       | 1999|population | 1272915272|\n",
        "|China       | 2000|cases      |     213766|\n",
        "|China       | 2000|population | 1280428583|"
      ],
      "metadata": {
        "id": "vI8x8nPDqWw3"
      }
    },
    {
      "cell_type": "code",
      "execution_count": null,
      "metadata": {
        "id": "gCpJHHxJqT3c"
      },
      "outputs": [],
      "source": []
    },
    {
      "cell_type": "markdown",
      "source": [
        "**Zadanie 2**\n",
        "\n",
        "Zadeklaruj następującą ramkę danych\n",
        "\n",
        "|country     | year|type       |      count|\n",
        "|:-----------|----:|:----------|----------:|\n",
        "|Afghanistan | 1999|cases      |        745|\n",
        "|Afghanistan | 1999|population |   19987071|\n",
        "|Afghanistan | 2000|cases      |       2666|\n",
        "|Afghanistan | 2000|population |   20595360|\n",
        "|Brazil      | 1999|cases      |      37737|\n",
        "|Brazil      | 1999|population |  172006362|\n",
        "|Brazil      | 2000|cases      |      80488|\n",
        "|Brazil      | 2000|population |  174504898|\n",
        "|China       | 1999|cases      |     212258|\n",
        "|China       | 1999|population | 1272915272|\n",
        "|China       | 2000|cases      |     213766|\n",
        "|China       | 2000|population | 1280428583|\n",
        "\n",
        "a następnie utwórz poniższą ramkę danych\n",
        "\n",
        "|country     |type       |       1999|       2000|\n",
        "|:-----------|:----------|----------:|----------:|\n",
        "|Afghanistan |cases      |        745|       2666|\n",
        "|Afghanistan |population |   19987071|   20595360|\n",
        "|Brazil      |cases      |      37737|      80488|\n",
        "|Brazil      |population |  172006362|  174504898|\n",
        "|China       |cases      |     212258|     213766|\n",
        "|China       |population | 1272915272| 1280428583|\n",
        "\n",
        "\n"
      ],
      "metadata": {
        "id": "B5Mif8lNqYdX"
      }
    },
    {
      "cell_type": "code",
      "source": [],
      "metadata": {
        "id": "TwT8YbVtq2WB"
      },
      "execution_count": null,
      "outputs": []
    },
    {
      "cell_type": "markdown",
      "source": [
        "**Zadanie 3**\n",
        "\n",
        "Na podstawie wejściowej ramki danych z zadania 2 utwórz następującą ramkę danych\n",
        "\n",
        "| year|type       | Afghanistan|    Brazil|      China|\n",
        "|----:|:----------|-----------:|---------:|----------:|\n",
        "| 1999|cases      |         745|     37737|     212258|\n",
        "| 1999|population |    19987071| 172006362| 1272915272|\n",
        "| 2000|cases      |        2666|     80488|     213766|\n",
        "| 2000|population |    20595360| 174504898| 1280428583|\n"
      ],
      "metadata": {
        "id": "bwNiYZV3qctK"
      }
    },
    {
      "cell_type": "code",
      "source": [],
      "metadata": {
        "id": "5xjTnF0wq3SN"
      },
      "execution_count": null,
      "outputs": []
    },
    {
      "cell_type": "markdown",
      "source": [
        "**Zadanie 4**\n",
        "\n",
        "Na podstawie ramki danych z 2 zadania utwórz następującą ramkę danych:\n",
        "\n",
        "|country     | cases_1999| population_1999| cases_2000| population_2000|\n",
        "|:-----------|----------:|---------------:|----------:|---------------:|\n",
        "|Afghanistan |        745|        19987071|       2666|        20595360|\n",
        "|Brazil      |      37737|       172006362|      80488|       174504898|\n",
        "|China       |     212258|      1272915272|     213766|      1280428583|\n"
      ],
      "metadata": {
        "id": "3t-bnOfcqd1R"
      }
    },
    {
      "cell_type": "code",
      "source": [],
      "metadata": {
        "id": "fyDaKZ1Nq4qZ"
      },
      "execution_count": null,
      "outputs": []
    },
    {
      "cell_type": "markdown",
      "source": [
        "**Zadanie 5** -- Przeczytaj artykuł [Tidy data](https://www.jstatsoft.org/article/view/v059i10) i przerób przykłady w Pythonie."
      ],
      "metadata": {
        "id": "4keEuj4Hsxux"
      }
    }
  ]
}