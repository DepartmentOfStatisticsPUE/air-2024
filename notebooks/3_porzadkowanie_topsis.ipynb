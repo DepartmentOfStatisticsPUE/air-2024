{
  "nbformat": 4,
  "nbformat_minor": 0,
  "metadata": {
    "colab": {
      "provenance": [],
      "authorship_tag": "ABX9TyO/9QgUPpGyd6hxZhlcrH7T",
      "include_colab_link": true
    },
    "kernelspec": {
      "name": "python3",
      "display_name": "Python 3"
    }
  },
  "cells": [
    {
      "cell_type": "markdown",
      "metadata": {
        "id": "view-in-github",
        "colab_type": "text"
      },
      "source": [
        "<a href=\"https://colab.research.google.com/github/DepartmentOfStatisticsPUE/air-2024/blob/main/notebooks/3_porzadkowanie_topsis.ipynb\" target=\"_parent\"><img src=\"https://colab.research.google.com/assets/colab-badge.svg\" alt=\"Open In Colab\"/></a>"
      ]
    },
    {
      "cell_type": "markdown",
      "metadata": {
        "id": "K8XTGDlyqlvP"
      },
      "source": [
        "Wczytujemy biblioteki\n"
      ]
    },
    {
      "cell_type": "code",
      "metadata": {
        "id": "zFnOIxS2qXym"
      },
      "source": [
        "import pandas as pd\n",
        "import numpy as np"
      ],
      "execution_count": null,
      "outputs": []
    },
    {
      "cell_type": "markdown",
      "metadata": {
        "id": "hnDgBMvvqpRI"
      },
      "source": [
        "Wczytujemy dane o powiatach\n"
      ]
    },
    {
      "cell_type": "code",
      "metadata": {
        "colab": {
          "base_uri": "https://localhost:8080/",
          "height": 198
        },
        "id": "WYtlKBAQqsc7",
        "outputId": "c9c73301-e15a-4b99-9887-b5cf64332597"
      },
      "source": [
        "powiaty = pd.read_excel(io = \"Powiaty.xls\")\n",
        "powiaty.head()"
      ],
      "execution_count": null,
      "outputs": [
        {
          "output_type": "execute_result",
          "data": {
            "text/html": [
              "<div>\n",
              "<style scoped>\n",
              "    .dataframe tbody tr th:only-of-type {\n",
              "        vertical-align: middle;\n",
              "    }\n",
              "\n",
              "    .dataframe tbody tr th {\n",
              "        vertical-align: top;\n",
              "    }\n",
              "\n",
              "    .dataframe thead th {\n",
              "        text-align: right;\n",
              "    }\n",
              "</style>\n",
              "<table border=\"1\" class=\"dataframe\">\n",
              "  <thead>\n",
              "    <tr style=\"text-align: right;\">\n",
              "      <th></th>\n",
              "      <th>Powiaty</th>\n",
              "      <th>Id</th>\n",
              "      <th>X1_s</th>\n",
              "      <th>X2_s</th>\n",
              "      <th>X3_d</th>\n",
              "      <th>X4_d</th>\n",
              "      <th>X5_d</th>\n",
              "      <th>X6_d</th>\n",
              "    </tr>\n",
              "  </thead>\n",
              "  <tbody>\n",
              "    <tr>\n",
              "      <th>0</th>\n",
              "      <td>chodzieski</td>\n",
              "      <td>251</td>\n",
              "      <td>0.638029</td>\n",
              "      <td>1648.80</td>\n",
              "      <td>0.231</td>\n",
              "      <td>0.282360</td>\n",
              "      <td>0.536464</td>\n",
              "      <td>0.064824</td>\n",
              "    </tr>\n",
              "    <tr>\n",
              "      <th>1</th>\n",
              "      <td>czarnkowsko-trzcianecki</td>\n",
              "      <td>252</td>\n",
              "      <td>0.635018</td>\n",
              "      <td>1800.35</td>\n",
              "      <td>0.248</td>\n",
              "      <td>0.295556</td>\n",
              "      <td>0.512332</td>\n",
              "      <td>0.115621</td>\n",
              "    </tr>\n",
              "    <tr>\n",
              "      <th>2</th>\n",
              "      <td>gnieźnieński</td>\n",
              "      <td>253</td>\n",
              "      <td>0.571948</td>\n",
              "      <td>1801.16</td>\n",
              "      <td>0.232</td>\n",
              "      <td>0.308769</td>\n",
              "      <td>0.468553</td>\n",
              "      <td>0.246254</td>\n",
              "    </tr>\n",
              "    <tr>\n",
              "      <th>3</th>\n",
              "      <td>gostyński</td>\n",
              "      <td>254</td>\n",
              "      <td>0.707542</td>\n",
              "      <td>1815.27</td>\n",
              "      <td>0.194</td>\n",
              "      <td>0.362074</td>\n",
              "      <td>0.470871</td>\n",
              "      <td>0.077338</td>\n",
              "    </tr>\n",
              "    <tr>\n",
              "      <th>4</th>\n",
              "      <td>grodziski</td>\n",
              "      <td>255</td>\n",
              "      <td>0.645110</td>\n",
              "      <td>1710.91</td>\n",
              "      <td>0.121</td>\n",
              "      <td>0.412271</td>\n",
              "      <td>0.417134</td>\n",
              "      <td>0.141414</td>\n",
              "    </tr>\n",
              "  </tbody>\n",
              "</table>\n",
              "</div>"
            ],
            "text/plain": [
              "                   Powiaty   Id      X1_s  ...      X4_d      X5_d      X6_d\n",
              "0               chodzieski  251  0.638029  ...  0.282360  0.536464  0.064824\n",
              "1  czarnkowsko-trzcianecki  252  0.635018  ...  0.295556  0.512332  0.115621\n",
              "2             gnieźnieński  253  0.571948  ...  0.308769  0.468553  0.246254\n",
              "3                gostyński  254  0.707542  ...  0.362074  0.470871  0.077338\n",
              "4                grodziski  255  0.645110  ...  0.412271  0.417134  0.141414\n",
              "\n",
              "[5 rows x 8 columns]"
            ]
          },
          "metadata": {
            "tags": []
          },
          "execution_count": 2
        }
      ]
    },
    {
      "cell_type": "markdown",
      "metadata": {
        "id": "amCVA9wUq_Hv"
      },
      "source": [
        "1. Standaryzacja zmiennych zgodnie ze wzorem\n",
        "\n",
        "$$\n",
        "z_{ij} = \\frac{x_{ij}}{\\sqrt{\\sum_{i=1}^n x_{ij}^2}}\n",
        "$$"
      ]
    },
    {
      "cell_type": "code",
      "metadata": {
        "colab": {
          "base_uri": "https://localhost:8080/"
        },
        "id": "so0f8H7qrP3T",
        "outputId": "381aa1f0-2088-4a73-c4ab-63321acbfbee"
      },
      "source": [
        "z_s=(powiaty[[\"X1_s\", \"X2_s\", \"X3_d\", \"X4_d\", \"X5_d\", \"X6_d\"]]**2).sum(axis = 0)\n",
        "z_mianownik = z_s**0.5\n",
        "z_mianownik"
      ],
      "execution_count": null,
      "outputs": [
        {
          "output_type": "execute_result",
          "data": {
            "text/plain": [
              "X1_s        3.676294\n",
              "X2_s    10918.202379\n",
              "X3_d        1.106199\n",
              "X4_d        1.986000\n",
              "X5_d        2.844181\n",
              "X6_d        1.003010\n",
              "dtype: float64"
            ]
          },
          "metadata": {
            "tags": []
          },
          "execution_count": 7
        }
      ]
    },
    {
      "cell_type": "code",
      "metadata": {
        "colab": {
          "base_uri": "https://localhost:8080/",
          "height": 198
        },
        "id": "3d6g6OQ9sa_r",
        "outputId": "745d5410-d32a-42dd-a41b-3a3f01e390db"
      },
      "source": [
        "z = powiaty[[\"X1_s\", \"X2_s\", \"X3_d\", \"X4_d\", \"X5_d\", \"X6_d\"]] / z_mianownik\n",
        "z.head()"
      ],
      "execution_count": null,
      "outputs": [
        {
          "output_type": "execute_result",
          "data": {
            "text/html": [
              "<div>\n",
              "<style scoped>\n",
              "    .dataframe tbody tr th:only-of-type {\n",
              "        vertical-align: middle;\n",
              "    }\n",
              "\n",
              "    .dataframe tbody tr th {\n",
              "        vertical-align: top;\n",
              "    }\n",
              "\n",
              "    .dataframe thead th {\n",
              "        text-align: right;\n",
              "    }\n",
              "</style>\n",
              "<table border=\"1\" class=\"dataframe\">\n",
              "  <thead>\n",
              "    <tr style=\"text-align: right;\">\n",
              "      <th></th>\n",
              "      <th>X1_s</th>\n",
              "      <th>X2_s</th>\n",
              "      <th>X3_d</th>\n",
              "      <th>X4_d</th>\n",
              "      <th>X5_d</th>\n",
              "      <th>X6_d</th>\n",
              "    </tr>\n",
              "  </thead>\n",
              "  <tbody>\n",
              "    <tr>\n",
              "      <th>0</th>\n",
              "      <td>0.173552</td>\n",
              "      <td>0.151014</td>\n",
              "      <td>0.208823</td>\n",
              "      <td>0.142175</td>\n",
              "      <td>0.188618</td>\n",
              "      <td>0.064630</td>\n",
              "    </tr>\n",
              "    <tr>\n",
              "      <th>1</th>\n",
              "      <td>0.172733</td>\n",
              "      <td>0.164894</td>\n",
              "      <td>0.224191</td>\n",
              "      <td>0.148820</td>\n",
              "      <td>0.180133</td>\n",
              "      <td>0.115274</td>\n",
              "    </tr>\n",
              "    <tr>\n",
              "      <th>2</th>\n",
              "      <td>0.155577</td>\n",
              "      <td>0.164969</td>\n",
              "      <td>0.209727</td>\n",
              "      <td>0.155473</td>\n",
              "      <td>0.164741</td>\n",
              "      <td>0.245515</td>\n",
              "    </tr>\n",
              "    <tr>\n",
              "      <th>3</th>\n",
              "      <td>0.192461</td>\n",
              "      <td>0.166261</td>\n",
              "      <td>0.175375</td>\n",
              "      <td>0.182313</td>\n",
              "      <td>0.165556</td>\n",
              "      <td>0.077106</td>\n",
              "    </tr>\n",
              "    <tr>\n",
              "      <th>4</th>\n",
              "      <td>0.175478</td>\n",
              "      <td>0.156703</td>\n",
              "      <td>0.109384</td>\n",
              "      <td>0.207589</td>\n",
              "      <td>0.146662</td>\n",
              "      <td>0.140990</td>\n",
              "    </tr>\n",
              "  </tbody>\n",
              "</table>\n",
              "</div>"
            ],
            "text/plain": [
              "       X1_s      X2_s      X3_d      X4_d      X5_d      X6_d\n",
              "0  0.173552  0.151014  0.208823  0.142175  0.188618  0.064630\n",
              "1  0.172733  0.164894  0.224191  0.148820  0.180133  0.115274\n",
              "2  0.155577  0.164969  0.209727  0.155473  0.164741  0.245515\n",
              "3  0.192461  0.166261  0.175375  0.182313  0.165556  0.077106\n",
              "4  0.175478  0.156703  0.109384  0.207589  0.146662  0.140990"
            ]
          },
          "metadata": {
            "tags": []
          },
          "execution_count": 8
        }
      ]
    },
    {
      "cell_type": "markdown",
      "metadata": {
        "id": "zEexKR5VtLUC"
      },
      "source": [
        "2. Wyznaczamy wartości dla obiektów idealnych i antyidelanych"
      ]
    },
    {
      "cell_type": "code",
      "metadata": {
        "colab": {
          "base_uri": "https://localhost:8080/"
        },
        "id": "qehjaDLhtPSe",
        "outputId": "ba794da7-4f17-4ba8-857f-c1ad318351c3"
      },
      "source": [
        "obiekt_idealny = [max(z.X1_s), max(z.X2_s), min(z.X3_d), min(z.X4_d), min(z.X5_d), min(z.X6_d)]\n",
        "obiekt_antyidealny = [min(z.X1_s), min(z.X2_s), max(z.X3_d), max(z.X4_d), max(z.X5_d), max(z.X6_d)]\n",
        "\n",
        "print(obiekt_idealny)\n",
        "print(obiekt_antyidealny)"
      ],
      "execution_count": null,
      "outputs": [
        {
          "output_type": "stream",
          "text": [
            "[0.22121476485417835, 0.23008641100791236, 0.062375737297899976, 0.12229443384211286, 0.12260918638277757, 0.06462989303529562]\n",
            "[0.05872594250217568, 0.12421458706712261, 0.2522149377697695, 0.20758859120913623, 0.2119391577175565, 0.4915843499953889]\n"
          ],
          "name": "stdout"
        }
      ]
    },
    {
      "cell_type": "markdown",
      "metadata": {
        "id": "3Y29atxRuHBy"
      },
      "source": [
        "3. Obliczamy odległości $d_i^{+}$ i $d_{i}^{-}$"
      ]
    },
    {
      "cell_type": "code",
      "metadata": {
        "colab": {
          "base_uri": "https://localhost:8080/"
        },
        "id": "X-rX_RF3uMmo",
        "outputId": "b6a90381-5788-4ca5-9891-67a576fe6f2d"
      },
      "source": [
        "##\n",
        "d_plus = np.sqrt( ((z - obiekt_idealny)**2).sum(axis = 1) )\n",
        "d_minus = np.sqrt( ((z - obiekt_antyidealny)**2).sum(axis = 1) )\n",
        "d_plus.head()"
      ],
      "execution_count": null,
      "outputs": [
        {
          "output_type": "execute_result",
          "data": {
            "text/plain": [
              "0    0.186342\n",
              "1    0.198399\n",
              "2    0.256625\n",
              "3    0.152551\n",
              "4    0.152877\n",
              "dtype: float64"
            ]
          },
          "metadata": {
            "tags": []
          },
          "execution_count": 10
        }
      ]
    },
    {
      "cell_type": "markdown",
      "metadata": {
        "id": "TbUlidjmuu1a"
      },
      "source": [
        "4. Oblicamy"
      ]
    },
    {
      "cell_type": "code",
      "metadata": {
        "colab": {
          "base_uri": "https://localhost:8080/",
          "height": 348
        },
        "id": "e6flFPB4utpI",
        "outputId": "4ff277d7-bae8-4d34-b17c-35825bb62517"
      },
      "source": [
        "powiaty[\"d_minus\"] = d_minus\n",
        "powiaty[\"d_plus\"] = d_plus\n",
        "powiaty[\"R\"] = d_minus / (d_minus+d_plus)\n",
        "powiaty.sort_values(by = \"R\",  ascending = False, inplace=True)\n",
        "powiaty.head(10)"
      ],
      "execution_count": null,
      "outputs": [
        {
          "output_type": "execute_result",
          "data": {
            "text/html": [
              "<div>\n",
              "<style scoped>\n",
              "    .dataframe tbody tr th:only-of-type {\n",
              "        vertical-align: middle;\n",
              "    }\n",
              "\n",
              "    .dataframe tbody tr th {\n",
              "        vertical-align: top;\n",
              "    }\n",
              "\n",
              "    .dataframe thead th {\n",
              "        text-align: right;\n",
              "    }\n",
              "</style>\n",
              "<table border=\"1\" class=\"dataframe\">\n",
              "  <thead>\n",
              "    <tr style=\"text-align: right;\">\n",
              "      <th></th>\n",
              "      <th>Powiaty</th>\n",
              "      <th>Id</th>\n",
              "      <th>X1_s</th>\n",
              "      <th>X2_s</th>\n",
              "      <th>X3_d</th>\n",
              "      <th>X4_d</th>\n",
              "      <th>X5_d</th>\n",
              "      <th>X6_d</th>\n",
              "      <th>d_minus</th>\n",
              "      <th>d_plus</th>\n",
              "      <th>R</th>\n",
              "    </tr>\n",
              "  </thead>\n",
              "  <tbody>\n",
              "    <tr>\n",
              "      <th>20</th>\n",
              "      <td>poznański</td>\n",
              "      <td>275</td>\n",
              "      <td>0.813250</td>\n",
              "      <td>2037.67</td>\n",
              "      <td>0.100</td>\n",
              "      <td>0.323125</td>\n",
              "      <td>0.358899</td>\n",
              "      <td>0.127830</td>\n",
              "      <td>0.445475</td>\n",
              "      <td>0.090913</td>\n",
              "      <td>0.830509</td>\n",
              "    </tr>\n",
              "    <tr>\n",
              "      <th>33</th>\n",
              "      <td>Leszno</td>\n",
              "      <td>266</td>\n",
              "      <td>0.614669</td>\n",
              "      <td>1969.70</td>\n",
              "      <td>0.148</td>\n",
              "      <td>0.296974</td>\n",
              "      <td>0.425248</td>\n",
              "      <td>0.088528</td>\n",
              "      <td>0.445964</td>\n",
              "      <td>0.111851</td>\n",
              "      <td>0.799484</td>\n",
              "    </tr>\n",
              "    <tr>\n",
              "      <th>17</th>\n",
              "      <td>ostrzeszowski</td>\n",
              "      <td>271</td>\n",
              "      <td>0.640974</td>\n",
              "      <td>1783.28</td>\n",
              "      <td>0.140</td>\n",
              "      <td>0.340949</td>\n",
              "      <td>0.463062</td>\n",
              "      <td>0.066007</td>\n",
              "      <td>0.464411</td>\n",
              "      <td>0.121770</td>\n",
              "      <td>0.792265</td>\n",
              "    </tr>\n",
              "    <tr>\n",
              "      <th>12</th>\n",
              "      <td>leszczyński</td>\n",
              "      <td>265</td>\n",
              "      <td>0.715630</td>\n",
              "      <td>1850.48</td>\n",
              "      <td>0.140</td>\n",
              "      <td>0.381076</td>\n",
              "      <td>0.427414</td>\n",
              "      <td>0.085224</td>\n",
              "      <td>0.453545</td>\n",
              "      <td>0.120493</td>\n",
              "      <td>0.790096</td>\n",
              "    </tr>\n",
              "    <tr>\n",
              "      <th>23</th>\n",
              "      <td>szamotulski</td>\n",
              "      <td>277</td>\n",
              "      <td>0.636074</td>\n",
              "      <td>2031.21</td>\n",
              "      <td>0.146</td>\n",
              "      <td>0.374053</td>\n",
              "      <td>0.428977</td>\n",
              "      <td>0.087879</td>\n",
              "      <td>0.445688</td>\n",
              "      <td>0.121636</td>\n",
              "      <td>0.785597</td>\n",
              "    </tr>\n",
              "    <tr>\n",
              "      <th>34</th>\n",
              "      <td>Poznań</td>\n",
              "      <td>274</td>\n",
              "      <td>0.603762</td>\n",
              "      <td>2395.19</td>\n",
              "      <td>0.069</td>\n",
              "      <td>0.261404</td>\n",
              "      <td>0.348723</td>\n",
              "      <td>0.164741</td>\n",
              "      <td>0.420864</td>\n",
              "      <td>0.115639</td>\n",
              "      <td>0.784458</td>\n",
              "    </tr>\n",
              "    <tr>\n",
              "      <th>28</th>\n",
              "      <td>wolsztyński</td>\n",
              "      <td>280</td>\n",
              "      <td>0.757820</td>\n",
              "      <td>1532.20</td>\n",
              "      <td>0.135</td>\n",
              "      <td>0.380205</td>\n",
              "      <td>0.384430</td>\n",
              "      <td>0.082378</td>\n",
              "      <td>0.461241</td>\n",
              "      <td>0.130721</td>\n",
              "      <td>0.779174</td>\n",
              "    </tr>\n",
              "    <tr>\n",
              "      <th>25</th>\n",
              "      <td>śremski</td>\n",
              "      <td>285</td>\n",
              "      <td>0.617139</td>\n",
              "      <td>1821.54</td>\n",
              "      <td>0.155</td>\n",
              "      <td>0.373748</td>\n",
              "      <td>0.451580</td>\n",
              "      <td>0.074750</td>\n",
              "      <td>0.451038</td>\n",
              "      <td>0.136523</td>\n",
              "      <td>0.767644</td>\n",
              "    </tr>\n",
              "    <tr>\n",
              "      <th>24</th>\n",
              "      <td>średzki</td>\n",
              "      <td>284</td>\n",
              "      <td>0.652566</td>\n",
              "      <td>1919.95</td>\n",
              "      <td>0.182</td>\n",
              "      <td>0.342647</td>\n",
              "      <td>0.469901</td>\n",
              "      <td>0.067310</td>\n",
              "      <td>0.456132</td>\n",
              "      <td>0.140115</td>\n",
              "      <td>0.765005</td>\n",
              "    </tr>\n",
              "    <tr>\n",
              "      <th>21</th>\n",
              "      <td>rawicki</td>\n",
              "      <td>276</td>\n",
              "      <td>0.650416</td>\n",
              "      <td>1512.14</td>\n",
              "      <td>0.132</td>\n",
              "      <td>0.362693</td>\n",
              "      <td>0.451304</td>\n",
              "      <td>0.085950</td>\n",
              "      <td>0.447261</td>\n",
              "      <td>0.137761</td>\n",
              "      <td>0.764519</td>\n",
              "    </tr>\n",
              "  </tbody>\n",
              "</table>\n",
              "</div>"
            ],
            "text/plain": [
              "          Powiaty   Id      X1_s  ...   d_minus    d_plus         R\n",
              "20      poznański  275  0.813250  ...  0.445475  0.090913  0.830509\n",
              "33         Leszno  266  0.614669  ...  0.445964  0.111851  0.799484\n",
              "17  ostrzeszowski  271  0.640974  ...  0.464411  0.121770  0.792265\n",
              "12    leszczyński  265  0.715630  ...  0.453545  0.120493  0.790096\n",
              "23    szamotulski  277  0.636074  ...  0.445688  0.121636  0.785597\n",
              "34         Poznań  274  0.603762  ...  0.420864  0.115639  0.784458\n",
              "28    wolsztyński  280  0.757820  ...  0.461241  0.130721  0.779174\n",
              "25        śremski  285  0.617139  ...  0.451038  0.136523  0.767644\n",
              "24        średzki  284  0.652566  ...  0.456132  0.140115  0.765005\n",
              "21        rawicki  276  0.650416  ...  0.447261  0.137761  0.764519\n",
              "\n",
              "[10 rows x 11 columns]"
            ]
          },
          "metadata": {
            "tags": []
          },
          "execution_count": 11
        }
      ]
    }
  ]
}