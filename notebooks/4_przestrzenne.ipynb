{
  "nbformat": 4,
  "nbformat_minor": 0,
  "metadata": {
    "colab": {
      "provenance": [],
      "authorship_tag": "ABX9TyPTMp1D9wNyGgqo09VGrhW9",
      "include_colab_link": true
    },
    "kernelspec": {
      "name": "python3",
      "display_name": "Python 3"
    },
    "language_info": {
      "name": "python"
    }
  },
  "cells": [
    {
      "cell_type": "markdown",
      "metadata": {
        "id": "view-in-github",
        "colab_type": "text"
      },
      "source": [
        "<a href=\"https://colab.research.google.com/github/DepartmentOfStatisticsPUE/air-2024/blob/main/notebooks/4_przestrzenne.ipynb\" target=\"_parent\"><img src=\"https://colab.research.google.com/assets/colab-badge.svg\" alt=\"Open In Colab\"/></a>"
      ]
    },
    {
      "cell_type": "code",
      "source": [
        "!apt install libspatialindex-dev ## specjalna biblioteka do analiz przestrzennych na linux\n",
        "!pip install geopandas ## biblioteka geopandas w pythonie\n",
        "!pip install folium mapclassify ## potrzebne do utworzenia mapy interaktywnej\n",
        "## doinstalowujemy nowe pakiety na potrzeby analiz przestrzennych\n",
        "!pip install -U pysal urbanaccess pandana libpysal esda"
      ],
      "metadata": {
        "id": "riWm-ARFp8nQ"
      },
      "execution_count": null,
      "outputs": []
    },
    {
      "cell_type": "code",
      "source": [
        "import numpy as np\n",
        "import pandas as pd\n",
        "import geopandas as gpd\n",
        "import matplotlib.pyplot as plt\n",
        "import folium ## folium.Map\n",
        "import libpysal as ps ## wagi\n",
        "import esda ## statystyka morana\n",
        "import mapclassify\n",
        "from splot.esda import lisa_cluster ## wykres: kartogram ze skupiskami\n",
        "from splot.esda import moran_scatterplot ## wykres: wykres rozrzutu ze statystyką morana\n",
        "%matplotlib inline"
      ],
      "metadata": {
        "id": "-jqscYZGqDPO"
      },
      "execution_count": 3,
      "outputs": []
    },
    {
      "cell_type": "code",
      "source": [
        "plt.rcParams['figure.figsize'] = [8, 8] ## wielkość wykresu"
      ],
      "metadata": {
        "id": "PbdEGg2OsGho"
      },
      "execution_count": null,
      "outputs": []
    },
    {
      "cell_type": "code",
      "source": [
        "pow_df = gpd.read_file(filename = \"powiaty.shp\", encoding = \"utf-8\")\n",
        "pow_df = pow_df[[\"SP_ID\", \"jpt_kod_je\", \"jpt_nazwa_\", \"geometry\"]]\n",
        "pow_df.head(n = 2)"
      ],
      "metadata": {
        "id": "GlM-kzOPsIPQ"
      },
      "execution_count": null,
      "outputs": []
    },
    {
      "cell_type": "code",
      "source": [
        "pow_df.crs"
      ],
      "metadata": {
        "id": "OI017GGnsLBA"
      },
      "execution_count": null,
      "outputs": []
    },
    {
      "cell_type": "code",
      "source": [
        "pow_df.set_crs(2180, inplace = True)"
      ],
      "metadata": {
        "id": "c68dPc7esMcn"
      },
      "execution_count": null,
      "outputs": []
    },
    {
      "cell_type": "code",
      "source": [
        "pow_df.crs"
      ],
      "metadata": {
        "id": "_G_-e6UpsOA4"
      },
      "execution_count": null,
      "outputs": []
    },
    {
      "cell_type": "code",
      "source": [
        "pow_df.plot(color = \"black\", edgecolor = \"white\")"
      ],
      "metadata": {
        "id": "inzfjcGgsPtn"
      },
      "execution_count": null,
      "outputs": []
    },
    {
      "cell_type": "code",
      "source": [
        "pow_df[pow_df.jpt_kod_je.str.slice(0,2) == \"30\"].plot(color = \"white\", edgecolor = \"black\")"
      ],
      "metadata": {
        "id": "130lyf3QsRGy"
      },
      "execution_count": null,
      "outputs": []
    },
    {
      "cell_type": "code",
      "source": [
        "pow_df[pow_df.jpt_kod_je.str.slice(0,2) == \"30\"].explore()"
      ],
      "metadata": {
        "id": "qPWK2MAdsTE9"
      },
      "execution_count": null,
      "outputs": []
    },
    {
      "cell_type": "code",
      "source": [
        "pzn_df = gpd.read_file(filename = \"Poznan.shp\", encoding = \"utf-8\")\n",
        "pzn_df.head(n = 2)"
      ],
      "metadata": {
        "id": "ye2BrGPgsVh0"
      },
      "execution_count": null,
      "outputs": []
    },
    {
      "cell_type": "code",
      "source": [
        "pzn_df.crs"
      ],
      "metadata": {
        "id": "YxpAaF5qsXT0"
      },
      "execution_count": null,
      "outputs": []
    },
    {
      "cell_type": "code",
      "source": [
        "pzn_df.plot()"
      ],
      "metadata": {
        "id": "aJdRlnefsY-R"
      },
      "execution_count": null,
      "outputs": []
    },
    {
      "cell_type": "code",
      "source": [
        "pow_df.crs.srs"
      ],
      "metadata": {
        "id": "Hl1rWGSKsah0"
      },
      "execution_count": null,
      "outputs": []
    },
    {
      "cell_type": "code",
      "source": [
        "pzn_df.crs.srs"
      ],
      "metadata": {
        "id": "dmPOa-X6scMk"
      },
      "execution_count": null,
      "outputs": []
    },
    {
      "cell_type": "code",
      "source": [
        "pzn_df.set_crs(4326, allow_override=True, inplace=True)"
      ],
      "metadata": {
        "id": "Aa15pIPWsd5M"
      },
      "execution_count": null,
      "outputs": []
    },
    {
      "cell_type": "code",
      "source": [
        "pzn_df.crs"
      ],
      "metadata": {
        "id": "VQkNAKASsfH-"
      },
      "execution_count": null,
      "outputs": []
    },
    {
      "cell_type": "code",
      "source": [
        "pzn_df.plot()"
      ],
      "metadata": {
        "id": "wsQf1mL2sgpk"
      },
      "execution_count": null,
      "outputs": []
    },
    {
      "cell_type": "code",
      "source": [
        "pzn_df.to_crs(2180, inplace = True)"
      ],
      "metadata": {
        "id": "NDWgPLeosiFv"
      },
      "execution_count": null,
      "outputs": []
    },
    {
      "cell_type": "code",
      "source": [
        "pzn_df.head()"
      ],
      "metadata": {
        "id": "WHvxAQrosjpT"
      },
      "execution_count": null,
      "outputs": []
    },
    {
      "cell_type": "code",
      "source": [
        "pzn_df.explore()"
      ],
      "metadata": {
        "id": "rhQCuBPQskEA"
      },
      "execution_count": null,
      "outputs": []
    },
    {
      "cell_type": "code",
      "source": [
        "pzn_df.plot(color = \"white\", edgecolor = \"black\")"
      ],
      "metadata": {
        "id": "x-gVMNBqsllH"
      },
      "execution_count": null,
      "outputs": []
    },
    {
      "cell_type": "code",
      "source": [
        "base = pow_df[pow_df.jpt_kod_je == \"3021\"].plot(color = \"white\", edgecolor = \"black\")\n",
        "\n",
        "pzn_df.plot(ax=base, color = \"white\", edgecolor = \"black\")"
      ],
      "metadata": {
        "id": "c_5swJsUs_B5"
      },
      "execution_count": null,
      "outputs": []
    },
    {
      "cell_type": "code",
      "source": [
        "woj = gpd.read_file(\"woj.shp\", encoding = \"utf-8\")\n",
        "woj.set_crs(2180, inplace = True)\n",
        "pow_base = pow_df.plot(color = \"none\", edgecolor = \"black\", linewidth = 0.4)\n",
        "woj.plot(ax=pow_base, color = \"none\",  edgecolor = \"black\", linewidth = 1.2).set_axis_off()"
      ],
      "metadata": {
        "id": "dSXb7SDDtCUf"
      },
      "execution_count": null,
      "outputs": []
    },
    {
      "cell_type": "code",
      "source": [
        "wynag = pd.read_excel(io = \"powiaty_wynag.xlsx\", sheet_name=1)\n",
        "wynag = wynag[[\"Kod\", \"Wartosc\"]]\n",
        "wynag[\"kod\"] = wynag.Kod.astype(str).str.zfill(7)\n",
        "wynag[\"kod\"] = wynag.kod.str.slice(start=0,stop=4)\n",
        "wynag.head(n=2)"
      ],
      "metadata": {
        "id": "6GN8ajvJtDyy"
      },
      "execution_count": null,
      "outputs": []
    },
    {
      "cell_type": "code",
      "source": [
        "pow_df_dane = pd.merge(left = pow_df,\n",
        "                       right = wynag[[\"kod\", \"Wartosc\"]],\n",
        "                       how = \"left\",\n",
        "                       left_on = \"jpt_kod_je\",\n",
        "                       right_on = \"kod\")\n",
        "pow_df_dane.head(n=3)"
      ],
      "metadata": {
        "id": "mKBCigLOtFLP"
      },
      "execution_count": null,
      "outputs": []
    },
    {
      "cell_type": "code",
      "source": [
        "pow_df_dane.plot(column = \"Wartosc\", cmap = \"magma_r\",\n",
        "                 edgecolor = \"black\", linewidth = 0.4,\n",
        "                 legend = True, legend_kwds = {'shrink': 0.5})\n",
        "#                 legend = True,  legend_kwds = {'shrink': 0.6})"
      ],
      "metadata": {
        "id": "BpakuA6OtG-L"
      },
      "execution_count": null,
      "outputs": []
    }
  ]
}